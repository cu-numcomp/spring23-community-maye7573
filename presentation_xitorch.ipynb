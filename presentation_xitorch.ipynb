{
 "cells": [
  {
   "cell_type": "markdown",
   "id": "1007c9d7",
   "metadata": {},
   "source": [
    "# Manoj Yeddanapudy - Xitorch"
   ]
  },
  {
   "cell_type": "markdown",
   "id": "47ffbf20",
   "metadata": {},
   "source": [
    "### What is Xitorch? "
   ]
  },
  {
   "cell_type": "markdown",
   "id": "46d5c316",
   "metadata": {},
   "source": [
    "Xitorch is an open-source Python library for scientific computing in PyTorch. It provides a set of tools for solving mathematical problems, including optimization, root-finding, linear algebra, and differential equations.Xi torch's linear algebra module provides a range of operations, including matrix multiplication, inversion, and decomposition. It also includes a set of functions for solving linear systems of equations and least-squares problems. Xitorch is inteded for people who want to work with PyTorch and need to solve mathematical problems in their work."
   ]
  },
  {
   "cell_type": "markdown",
   "id": "509c142e",
   "metadata": {},
   "source": [
    "### How does Xitorch work? "
   ]
  },
  {
   "cell_type": "markdown",
   "id": "3794d6b8",
   "metadata": {},
   "source": [
    "Xitorch is built on top of PyTorch,  which is a machine-learning framework that provides a tensor computation library. Xitorch extends PyTorch's functionality to include differentiation, optimization, and linear algebra operations, making it a useful tool for numerical computations.\n",
    "\n",
    "Xitorch provides extensive documentation which makes it very easy to use and easy to install. \n",
    "\n",
    "To start using: \n",
    "`\n",
    "pip install xitorch\n",
    "`\n",
    "\n",
    "Link to the documentation: https://xitorch.readthedocs.io/en/latest/index.html\n",
    "\n"
   ]
  },
  {
   "cell_type": "markdown",
   "id": "1d2e9149",
   "metadata": {},
   "source": [
    "### Example:"
   ]
  },
  {
   "cell_type": "code",
   "execution_count": 52,
   "id": "3d0d225b",
   "metadata": {},
   "outputs": [],
   "source": [
    "import torch\n",
    "import xitorch\n",
    "import xitorch.linalg as xt_linalg\n",
    "import matplotlib.pyplot as plt\n",
    "import numpy"
   ]
  },
  {
   "cell_type": "code",
   "execution_count": 48,
   "id": "7ed5af7e",
   "metadata": {},
   "outputs": [
    {
     "name": "stdout",
     "output_type": "stream",
     "text": [
      "MatrixLinearOperator with shape (1, 2, 3, 3):\n",
      "   tensor([[[[0.7128, 0.3670, 0.2667],\n",
      "             [0.3940, 0.8597, 0.4308],\n",
      "             [0.1139, 0.8898, 0.5425]],\n",
      "   \n",
      "            [[0.1992, 0.3502, 0.2020],\n",
      "             [0.4944, 0.4587, 0.7256],\n",
      "             [0.0318, 0.5120, 0.7437]]]])\n",
      "tensor([[[[  3.2357,   1.2677],\n",
      "          [  9.4382,   7.0552],\n",
      "          [-14.1321,  -4.0957]],\n",
      "\n",
      "         [[  5.1090,   1.8909],\n",
      "          [  3.4446,   4.2574],\n",
      "          [ -1.1107,   2.6355]]]])\n"
     ]
    }
   ],
   "source": [
    "mat = torch.rand(1, 2, 3, 3)\n",
    "A = xitorch.LinearOperator.m(mat)\n",
    "B = torch.tensor([[2.0, 2.4], [3.3, 4.8], [1.1, 4.2]])\n",
    "print(A)\n",
    "\n",
    "\n",
    "x = xt_linalg.solve(A, B)\n",
    "\n",
    "print(x)"
   ]
  },
  {
   "cell_type": "markdown",
   "id": "31615ec1",
   "metadata": {},
   "source": [
    "### scatter plot of the solution vector x to visualize how the different variables relate to each other"
   ]
  },
  {
   "cell_type": "code",
   "execution_count": 57,
   "id": "e1c1dede",
   "metadata": {},
   "outputs": [
    {
     "data": {
      "image/png": "[encoded data removed]",
      "text/plain": [
       "<Figure size 640x480 with 1 Axes>"
      ]
     },
     "metadata": {},
     "output_type": "display_data"
    }
   ],
   "source": [
    "plt.scatter(x[:, 0].numpy(), x[:, 1].numpy())\n",
    "plt.xlabel('x1')\n",
    "plt.ylabel('x2')\n",
    "plt.show()"
   ]
  },
  {
   "cell_type": "code",
   "execution_count": 63,
   "id": "8225f942",
   "metadata": {},
   "outputs": [],
   "source": [
    "svd = xt_linalg.svd(A)\n",
    "\n"
   ]
  },
  {
   "cell_type": "code",
   "execution_count": 64,
   "id": "fbdf18d7",
   "metadata": {},
   "outputs": [
    {
     "data": {
      "text/plain": [
       "(tensor([[[[ 0.3262, -0.8391, -0.4354],\n",
       "           [-0.7608,  0.0404, -0.6478],\n",
       "           [ 0.5611,  0.5425, -0.6251]],\n",
       " \n",
       "          [[-0.9173, -0.2588, -0.3027],\n",
       "           [ 0.3981, -0.5801, -0.7106],\n",
       "           [-0.0083,  0.7723, -0.6352]]]]),\n",
       " tensor([[[0.0727, 0.5678, 1.6015],\n",
       "          [0.1735, 0.3320, 1.3639]]]),\n",
       " tensor([[[[-0.0462, -0.4817,  0.8751],\n",
       "           [-0.9164,  0.3691,  0.1548],\n",
       "           [-0.3976, -0.7948, -0.4585]],\n",
       " \n",
       "          [[ 0.0795, -0.8235,  0.5617],\n",
       "           [-0.9452,  0.1166,  0.3048],\n",
       "           [-0.3166, -0.5552, -0.7692]]]]))"
      ]
     },
     "execution_count": 64,
     "metadata": {},
     "output_type": "execute_result"
    }
   ],
   "source": [
    "svd"
   ]
  },
  {
   "cell_type": "markdown",
   "id": "ed2b0d67",
   "metadata": {},
   "source": [
    "### Questions: "
   ]
  },
  {
   "cell_type": "markdown",
   "id": "ce129ecf",
   "metadata": {},
   "source": [
    "* How does xitorch.linalg compare to other linear algebra libraries like NumPy or SciPy?\n",
    "\n"
   ]
  },
  {
   "cell_type": "markdown",
   "id": "3dd07b7d",
   "metadata": {},
   "source": [
    "### Experiment:"
   ]
  },
  {
   "cell_type": "markdown",
   "id": "22065ab6",
   "metadata": {},
   "source": [
    "* Xitorch provides several algorithms for matrix multiplication, including the standard matrix multiplication algorithm and the Strassen algorithm. An interesting experiment would be to compare the performance of these algorithms on different sizes of matrices and see which one is faster.\n",
    "\n"
   ]
  },
  {
   "cell_type": "code",
   "execution_count": null,
   "id": "e9b16b3a",
   "metadata": {},
   "outputs": [],
   "source": []
  }
 ],
 "metadata": {
  "kernelspec": {
   "display_name": "Python 3 (ipykernel)",
   "language": "python",
   "name": "python3"
  },
  "language_info": {
   "codemirror_mode": {
    "name": "ipython",
    "version": 3
   },
   "file_extension": ".py",
   "mimetype": "text/x-python",
   "name": "python",
   "nbconvert_exporter": "python",
   "pygments_lexer": "ipython3",
   "version": "3.9.13"
  }
 },
 "nbformat": 4,
 "nbformat_minor": 5
}
